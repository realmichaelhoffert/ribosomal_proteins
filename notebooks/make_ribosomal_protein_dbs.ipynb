{
 "cells": [
  {
   "cell_type": "code",
   "execution_count": 1,
   "id": "6f9f7dd9-ffd5-4c49-a721-8400dd569196",
   "metadata": {},
   "outputs": [],
   "source": [
    "import pandas as pd\n",
    "import glob\n",
    "import os\n",
    "    \n",
    "import seaborn as sns\n",
    "import matplotlib.pyplot as plt\n",
    "from IPython.display import display, clear_output\n",
    "from Bio import SeqIO\n",
    "\n",
    "import xmltodict\n",
    "from flatten_json import flatten\n",
    "import json\n",
    "\n",
    "import requests"
   ]
  },
  {
   "cell_type": "code",
   "execution_count": 15,
   "id": "9dd83ad4-4627-44b5-9355-775ebe394312",
   "metadata": {},
   "outputs": [],
   "source": [
    "def get_superfamily_cds(superfamily_pssm):\n",
    "    # search\n",
    "    r = requests.get(f'https://www.ncbi.nlm.nih.gov/Structure/cdd/cddsrv.cgi?uid={superfamily_pssm}')\n",
    "    # get text\n",
    "    query_dict = json.loads((r.text.split(' CDD=')[1].split(';')[0]))\n",
    "    # get CDs in the superfamily\n",
    "    curated_cds, uncurated_cds = [], []\n",
    "    if 'curatedCDs' in query_dict.keys():\n",
    "        curated_cds = [cd[0] for cd in query_dict['curatedCDs']]\n",
    "    if 'unCuratedCDs' in query_dict.keys():\n",
    "        uncurated_cds = [cd[0] for cd in query_dict['unCuratedCDs']]\n",
    "        \n",
    "    return curated_cds + uncurated_cds"
   ]
  },
  {
   "cell_type": "markdown",
   "id": "5752130a-4c63-4ba1-b482-2045637e6b7f",
   "metadata": {},
   "source": [
    "## SparcleLabel ribosomal protein annotation process"
   ]
  },
  {
   "cell_type": "markdown",
   "id": "492fcf0a-d42d-4cfe-af70-8f0f7ac82168",
   "metadata": {},
   "source": [
    "### Steps\n",
    "1. Get cddid_tbl.gz\n",
    "```\n",
    "wget https://ftp.ncbi.nih.gov/pub/mmdb/cdd/cddid.tbl.gz\n",
    "```\n",
    "on May 26, 2022\n",
    "2. Get cdd\n",
    "```\n",
    "wget cdd.tar.gz\n",
    "tar -xzf cdd.tar.gz\n",
    "mkdir smp\n",
    "mv *.smp smp\n",
    "```"
   ]
  },
  {
   "cell_type": "code",
   "execution_count": 3,
   "id": "e37b85f3-fa45-43a6-b998-49845c98dabd",
   "metadata": {},
   "outputs": [],
   "source": [
    "cddid_tbl = pd.read_csv('/data/mhoffert/db/cdd/cddid.tbl', sep='\\t', header=None)\n",
    "cddid_tbl.columns = '''PSSM-Id\n",
    "CD accession\n",
    "CD short name\n",
    "CD description\n",
    "PSSM-Length'''.split('\\n')"
   ]
  },
  {
   "cell_type": "code",
   "execution_count": 4,
   "id": "d9e1698a-b57a-4d57-b52e-7b63d61c5c0b",
   "metadata": {},
   "outputs": [],
   "source": [
    "psms = glob.glob('/data/mhoffert/db/cdd/smp/*')"
   ]
  },
  {
   "cell_type": "code",
   "execution_count": 7,
   "id": "43925d18-9759-4631-a4a6-7b53fcc32a19",
   "metadata": {},
   "outputs": [],
   "source": [
    "ribosomal_proteins = cddid_tbl[cddid_tbl['CD description'].apply(str.lower).str.contains('ribosomal protein')]"
   ]
  },
  {
   "cell_type": "code",
   "execution_count": 8,
   "id": "6d371340-81aa-4c4d-b9c3-d5cb08f28d34",
   "metadata": {},
   "outputs": [],
   "source": [
    "# # count = 0\n",
    "# potential_rps = cddid_tbl[cddid_tbl['CD description'].apply(str.lower).str.contains('ribosomal protein')].iloc[count:, :]\n",
    "# # validated_rps = []\n",
    "# for index, row in potential_rps.iterrows():\n",
    "    \n",
    "#     display(f'{count} out of {len(potential_rps)}')\n",
    "#     display(row['CD description'])\n",
    "#     display(row['CD short name'])\n",
    "#     is_ribosomal = ''\n",
    "#     while not is_ribosomal in ['y', 'n']:\n",
    "#         is_ribosomal = input(\"Is this a ribosomal protein? y/n:\")\n",
    "#         display('Try again')\n",
    "    \n",
    "#     if is_ribosomal == 'y':\n",
    "#         validated_rps.append(row)\n",
    "#     clear_output(wait=True)\n",
    "#     count += 1"
   ]
  },
  {
   "cell_type": "code",
   "execution_count": 15,
   "id": "1edec259-9cc8-43b9-a919-8e24f5e884fd",
   "metadata": {},
   "outputs": [],
   "source": [
    "# ribosomal_proteins = pd.concat(validated_rps, axis=1).T"
   ]
  },
  {
   "cell_type": "code",
   "execution_count": 16,
   "id": "c1b29bb9-550d-45db-acd2-a33f7c327f07",
   "metadata": {},
   "outputs": [],
   "source": [
    "ribosomal_proteins.to_csv('/data/mhoffert/realmichaelhoffert/ribosomal_proteins/data/validated_ribosomal_proteins_cdd.tsv', sep='\\t')"
   ]
  },
  {
   "cell_type": "code",
   "execution_count": 150,
   "id": "66ab7b00-3162-4948-998c-0d14498770ab",
   "metadata": {},
   "outputs": [],
   "source": [
    "ribosomal_proteins = pd.read_csv('/data/mhoffert/realmichaelhoffert/ribosomal_proteins/data/validated_ribosomal_proteins_cdd.tsv', sep='\\t', index_col=0)"
   ]
  },
  {
   "cell_type": "code",
   "execution_count": 16,
   "id": "38db04e7-403d-462e-a93e-68f9ee8f09a4",
   "metadata": {},
   "outputs": [
    {
     "name": "stdout",
     "output_type": "stream",
     "text": [
      "Num found: 925, num searched: 925\n"
     ]
    }
   ],
   "source": [
    "ribosomal_protein_accs = list(ribosomal_proteins['CD accession'].unique())\n",
    "\n",
    "# get the superfamilies (ids starting with \"cl\")\n",
    "superfamily_list = [protein for protein in ribosomal_protein_accs if not f'/data/mhoffert/db/cdd/smp/{protein}.smp' in psms]\n",
    "superfamily_pssm_ids = ribosomal_proteins[ribosomal_proteins['CD accession'].isin(superfamily_list)]['PSSM-Id'].unique()\n",
    "\n",
    "# add CDs of superfamilies\n",
    "for i, superfamily in enumerate(superfamily_pssm_ids):\n",
    "    display(i)\n",
    "    clear_output(wait=True)\n",
    "    ribosomal_protein_accs += get_superfamily_cds(superfamily)\n",
    "\n",
    "# unique    \n",
    "ribosomal_protein_accs = list(set(ribosomal_protein_accs))\n",
    "\n",
    "smp_list = [f'/data/mhoffert/db/cdd/smp/{protein}.smp' for protein in ribosomal_protein_accs if f'/data/mhoffert/db/cdd/smp/{protein}.smp' in psms]\n",
    "print(f'Num found: {len(smp_list) + len(superfamily_pssm_ids)}, num searched: {len(ribosomal_protein_accs)}')"
   ]
  },
  {
   "cell_type": "code",
   "execution_count": 18,
   "id": "ff3c181f-1e4c-457a-a7e5-b0ed8bb51b6f",
   "metadata": {},
   "outputs": [
    {
     "data": {
      "text/plain": [
       "834"
      ]
     },
     "execution_count": 18,
     "metadata": {},
     "output_type": "execute_result"
    }
   ],
   "source": [
    "len(smp_list)"
   ]
  },
  {
   "cell_type": "code",
   "execution_count": 17,
   "id": "a10ae8c3-7a1b-4cbd-aefa-8e6d8f5edc8c",
   "metadata": {},
   "outputs": [],
   "source": [
    "with open('/data/mhoffert/db/cdd/ribosomal_proteins.pn', 'w') as pn_file:\n",
    "    pn_file.write('\\n'.join(smp_list))"
   ]
  },
  {
   "cell_type": "markdown",
   "id": "33455f4d-1186-4ce9-8f9e-5dbbe933e0ed",
   "metadata": {},
   "source": [
    "```\n",
    "~/tools/SparcleLabel/SparcleLabel-x64-linux/ncbi-blast-2.13.0+/bin/makeprofiledb -title ribosomal_proteins -in ribosomal_proteins.pn -out ribosomal_proteins -threshold 9.82 -scale 100.0 -dbtype rps -index true\n",
    "```"
   ]
  },
  {
   "cell_type": "markdown",
   "id": "0b5eb03d-cc6a-49a5-8096-9b5733e45542",
   "metadata": {},
   "source": [
    "## PGAP HMM ribosomal protein process"
   ]
  },
  {
   "cell_type": "markdown",
   "id": "8ecc6a49-7a32-4294-b16a-451df7d9024e",
   "metadata": {},
   "source": [
    "### Steps\n",
    "1. Get PGAP hmms and unpack\n",
    "```\n",
    "wget https://ftp.ncbi.nih.gov/hmm/current/hmm_PGAP.HMM.tgz\n",
    "tar -xzvf hmm_PGAP.HMM.tgz\n",
    "```\n",
    "2. Read tsv file\n",
    "```\n",
    "https://ftp.ncbi.nih.gov/hmm/current/hmm_PGAP.tsv\n",
    "```"
   ]
  },
  {
   "cell_type": "code",
   "execution_count": 19,
   "id": "eb9949e4-6e81-4cf9-9ccb-ba3634200137",
   "metadata": {},
   "outputs": [],
   "source": [
    "pgap_hmm = pd.read_csv('/data/mhoffert/db/pgap_ribosomal/hmm_PGAP.tsv', sep='\\t')"
   ]
  },
  {
   "cell_type": "code",
   "execution_count": 20,
   "id": "3bba14dd-8b03-458a-877d-b0e004b6d820",
   "metadata": {},
   "outputs": [
    {
     "data": {
      "text/plain": [
       "equivalog                  10928\n",
       "domain                      8161\n",
       "subfamily                   3363\n",
       "PfamEq                      2260\n",
       "PfamAutoEq                  1217\n",
       "exception                    918\n",
       "hypoth_equivalog             456\n",
       "equivalog_domain             204\n",
       "subfamily_domain             198\n",
       "repeat                       117\n",
       "hypoth_equivalog_domain       39\n",
       "paralog                       28\n",
       "superfamily                   27\n",
       "paralog_domain                15\n",
       "signature                      5\n",
       "Name: family_type, dtype: int64"
      ]
     },
     "execution_count": 20,
     "metadata": {},
     "output_type": "execute_result"
    }
   ],
   "source": [
    "pgap_hmm.family_type.value_counts()"
   ]
  },
  {
   "cell_type": "code",
   "execution_count": 21,
   "id": "10970cf3-e557-47ed-914f-1e5d160eaa1d",
   "metadata": {},
   "outputs": [],
   "source": [
    "hmms = glob.glob('/data/mhoffert/db/pgap_ribosomal/hmm_PGAP/*.HMM')"
   ]
  },
  {
   "cell_type": "code",
   "execution_count": 22,
   "id": "e7490601-ba2a-42b5-803a-c6bbed3a6392",
   "metadata": {},
   "outputs": [],
   "source": [
    "ribosomal_hmms = pgap_hmm[pgap_hmm.product_name.apply(str.lower).str.contains('ribosomal protein')]"
   ]
  },
  {
   "cell_type": "code",
   "execution_count": 95,
   "id": "4ef7c749-001c-473e-be34-2a2f21802bd8",
   "metadata": {},
   "outputs": [],
   "source": [
    "# count = 0\n",
    "# potential_hmms = pgap_hmm[pgap_hmm.product_name.apply(str.lower).str.contains('ribosomal protein')]\n",
    "# validated_hmms = []\n",
    "# for index, row in potential_hmms.iterrows():\n",
    "    \n",
    "#     display(f'{count} out of {len(potential_hmms)}')\n",
    "#     display(row['label'])\n",
    "#     display(row['name_orig'])\n",
    "#     is_ribosomal = ''\n",
    "#     while not is_ribosomal in ['y', 'n']:\n",
    "#         is_ribosomal = input(\"Is this a ribosomal protein? y/n:\")\n",
    "#         display('Try again')\n",
    "    \n",
    "#     if is_ribosomal == 'y':\n",
    "#         validated_hmms.append(row)\n",
    "#     clear_output(wait=True)\n",
    "#     count += 1\n",
    "\n",
    "# ribosomal_hmms = pd.concat(validated_hmms, axis=1).T\n",
    "\n",
    "# ribosomal_hmms.to_csv('/data/mhoffert/realmichaelhoffert/ribosomal_proteins/data/validated_ribosomal_proteins_hmms.tsv', sep='\\t')\n",
    "\n",
    "# ribosomal_hmms = pd.read_csv('/data/mhoffert/realmichaelhoffert/ribosomal_proteins/data/validated_ribosomal_proteins_hmms.tsv', sep='\\t')"
   ]
  },
  {
   "cell_type": "code",
   "execution_count": 23,
   "id": "a16660d7-a747-448a-804c-d204737dc48e",
   "metadata": {},
   "outputs": [],
   "source": [
    "ribosomal_hmms_accs = ribosomal_hmms['#ncbi_accession'].unique()"
   ]
  },
  {
   "cell_type": "code",
   "execution_count": 24,
   "id": "e9666f4d-fe28-464e-84b7-bc53058cd1c8",
   "metadata": {},
   "outputs": [],
   "source": [
    "hmm_list = [f'/data/mhoffert/db/pgap_ribosomal/hmm_PGAP/{acc}.HMM' for acc in ribosomal_hmms_accs if f'/data/mhoffert/db/pgap_ribosomal/hmm_PGAP/{acc}.HMM' in hmms]"
   ]
  },
  {
   "cell_type": "code",
   "execution_count": 25,
   "id": "aaf1380b-51fe-4382-8dcd-4830fe0cfbae",
   "metadata": {},
   "outputs": [],
   "source": [
    "not_matching_hmm_list = [acc for acc in ribosomal_hmms_accs if not f'/data/mhoffert/db/pgap_ribosomal/hmm_PGAP/{acc}.HMM' in hmms]"
   ]
  },
  {
   "cell_type": "code",
   "execution_count": 26,
   "id": "2755c951-bc6b-4976-81c3-4489e75b962a",
   "metadata": {},
   "outputs": [
    {
     "data": {
      "text/plain": [
       "(245, 336, 91)"
      ]
     },
     "execution_count": 26,
     "metadata": {},
     "output_type": "execute_result"
    }
   ],
   "source": [
    "len(hmm_list), len(ribosomal_hmms_accs), len(not_matching_hmm_list)"
   ]
  },
  {
   "cell_type": "code",
   "execution_count": 28,
   "id": "41b23ff2-62dd-41f6-90f4-bc6f9fe8a898",
   "metadata": {},
   "outputs": [
    {
     "data": {
      "text/plain": [
       "244"
      ]
     },
     "metadata": {},
     "output_type": "display_data"
    }
   ],
   "source": [
    "for i, hmm in enumerate(hmm_list):\n",
    "    display(i)\n",
    "    clear_output(wait=True)\n",
    "    os.system(f'cat {hmm} >> /data/mhoffert/db/pgap_ribosomal/ribosomal_hmm')"
   ]
  },
  {
   "cell_type": "markdown",
   "id": "1901f20f-6619-4784-8080-0c56a9645a44",
   "metadata": {},
   "source": [
    "Press HMMs according to these instructions: http://eddylab.org/software/hmmer3/3.1b2/Userguide.pdf pp 33\n",
    "```\n",
    "hmmpress ribosomal_hmm\n",
    "```"
   ]
  },
  {
   "cell_type": "markdown",
   "id": "a33343d3-7a59-4eb8-b0ba-ccb9049aba46",
   "metadata": {},
   "source": [
    "### Blastrules"
   ]
  },
  {
   "cell_type": "markdown",
   "id": "02eb0a8b-ae8e-4d1d-bb03-222c75bf5e98",
   "metadata": {},
   "source": [
    "Download proteins and blastrules:\n",
    "    ```\n",
    "    https://ftp.ncbi.nih.gov/pub/blastrules/RELEASE_4.0/\n",
    "    ```"
   ]
  },
  {
   "cell_type": "code",
   "execution_count": 29,
   "id": "4052fc92-ff2a-4446-82ce-0b1b16049c25",
   "metadata": {},
   "outputs": [],
   "source": [
    "blastrules = pd.read_csv('/data/mhoffert/db/pgap_ribosomal/blastrules_4.0/blast-rules_4.0.tsv', sep='\\t', encoding='latin1')"
   ]
  },
  {
   "cell_type": "code",
   "execution_count": 30,
   "id": "2d8d749c-8e60-4896-9e3d-5102a0082ef2",
   "metadata": {},
   "outputs": [],
   "source": [
    "ribosomal_blastrules = blastrules[blastrules['Name'].apply(str.lower).str.contains('ribosomal protein')]"
   ]
  },
  {
   "cell_type": "code",
   "execution_count": 31,
   "id": "841c95c6-91a4-47be-b2c4-6d0217045d8e",
   "metadata": {},
   "outputs": [],
   "source": [
    "# count = 0\n",
    "# potential_blastrules = blastrules[blastrules['Name'].apply(str.lower).str.contains('ribosomal protein')]\n",
    "# validated_blastrules = []\n",
    "# for index, row in potential_blastrules.iterrows():\n",
    "    \n",
    "#     display(f'{count} out of {len(potential_blastrules)}')\n",
    "#     display(row['Name'])\n",
    "#     display(row['Gene'])\n",
    "#     is_ribosomal = ''\n",
    "#     while not is_ribosomal in ['y', 'n']:\n",
    "#         is_ribosomal = input(\"Is this a ribosomal protein? y/n:\")\n",
    "#         display('Try again')\n",
    "    \n",
    "#     if is_ribosomal == 'y':\n",
    "#         validated_blastrules.append(row)\n",
    "#     clear_output(wait=True)\n",
    "#     count += 1\n",
    "\n",
    "# ribosomal_blastrules = pd.concat(validated_blastrules, axis=1).T\n",
    "\n",
    "# ribosomal_blastrules.to_csv('/data/mhoffert/realmichaelhoffert/ribosomal_proteins/data/validated_ribosomal_proteins_blastrules.tsv', sep='\\t')"
   ]
  },
  {
   "cell_type": "code",
   "execution_count": 32,
   "id": "c23e9d5b-845c-419d-b433-5798ce3eed62",
   "metadata": {},
   "outputs": [],
   "source": [
    "ribosomal_blastrules_accs = [p for plist in ribosomal_blastrules['WP_Proteins'].apply(lambda x: x.split(',')) for p in plist]"
   ]
  },
  {
   "cell_type": "code",
   "execution_count": 33,
   "id": "fd5739f4-942f-4348-991b-a3e6a93cd5b4",
   "metadata": {},
   "outputs": [],
   "source": [
    "with open('/data/mhoffert/db/pgap_ribosomal/blastrules_4.0/proteins.fasta', 'r') as proteins_fasta:\n",
    "    records = [r for r in SeqIO.parse(proteins_fasta, format='fasta')]"
   ]
  },
  {
   "cell_type": "code",
   "execution_count": 34,
   "id": "dcf874d2-3155-446b-b49a-f2df5fff4247",
   "metadata": {},
   "outputs": [],
   "source": [
    "ribosomal_records = [r for r in records if any(s in r.id for s in ribosomal_blastrules_accs)]"
   ]
  },
  {
   "cell_type": "code",
   "execution_count": 36,
   "id": "c1af027f-b02a-4672-a2a0-fd0591260c2f",
   "metadata": {},
   "outputs": [],
   "source": [
    "with open('/data/mhoffert/db/pgap_ribosomal/blastrules_4.0/ribosomal_proteins.fasta', 'w') as ribosomal_proteins_fasta:\n",
    "    SeqIO.write(ribosomal_records, ribosomal_proteins_fasta, 'fasta')"
   ]
  },
  {
   "cell_type": "markdown",
   "id": "a4121e2f-32d2-4e79-b3a7-51175b571cee",
   "metadata": {},
   "source": [
    "```\n",
    "makeblastdb -in ribosomal_proteins.fasta -dbtype prot -out ribosomal_proteins\n",
    "```"
   ]
  }
 ],
 "metadata": {
  "kernelspec": {
   "display_name": "Python 3 (ipykernel)",
   "language": "python",
   "name": "python3"
  },
  "language_info": {
   "codemirror_mode": {
    "name": "ipython",
    "version": 3
   },
   "file_extension": ".py",
   "mimetype": "text/x-python",
   "name": "python",
   "nbconvert_exporter": "python",
   "pygments_lexer": "ipython3",
   "version": "3.10.4"
  }
 },
 "nbformat": 4,
 "nbformat_minor": 5
}
