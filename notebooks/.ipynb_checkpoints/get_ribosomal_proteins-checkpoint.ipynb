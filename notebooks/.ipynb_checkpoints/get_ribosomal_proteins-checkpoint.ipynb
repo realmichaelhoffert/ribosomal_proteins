{
 "cells": [
  {
   "cell_type": "code",
   "execution_count": 301,
   "id": "b6c9a2fc-adfd-4f54-a84f-0cfb3f061fff",
   "metadata": {},
   "outputs": [],
   "source": [
    "import pandas as pd\n",
    "import glob\n",
    "import os\n",
    "    \n",
    "import seaborn as sns\n",
    "import matplotlib.pyplot as plt\n",
    "from IPython.display import display, clear_output\n",
    "from Bio import SeqIO\n",
    "\n",
    "import xmltodict\n",
    "from flatten_json import flatten\n",
    "import json"
   ]
  },
  {
   "cell_type": "code",
   "execution_count": 202,
   "id": "9c700e1c-9dda-4e26-8507-ef5073e0e145",
   "metadata": {},
   "outputs": [
    {
     "data": {
      "text/plain": [
       "equivalog                  10928\n",
       "domain                      8161\n",
       "subfamily                   3363\n",
       "PfamEq                      2260\n",
       "PfamAutoEq                  1217\n",
       "exception                    918\n",
       "hypoth_equivalog             456\n",
       "equivalog_domain             204\n",
       "subfamily_domain             198\n",
       "repeat                       117\n",
       "hypoth_equivalog_domain       39\n",
       "paralog                       28\n",
       "superfamily                   27\n",
       "paralog_domain                15\n",
       "signature                      5\n",
       "Name: family_type, dtype: int64"
      ]
     },
     "execution_count": 202,
     "metadata": {},
     "output_type": "execute_result"
    }
   ],
   "source": [
    "pgap_hmm['family_type'].value_counts()"
   ]
  },
  {
   "cell_type": "code",
   "execution_count": 203,
   "id": "7a99fc99-ea22-472c-9110-307e8e12d4c8",
   "metadata": {},
   "outputs": [],
   "source": [
    "rule_precedences = {\n",
    "'BlastRuleIS':96,\n",
    "'BlastRuleException':95,\n",
    "'exception':77,\n",
    "'equivalog':70,\n",
    "'hypoth_equivalog':70,\n",
    "'equivalog_domain':70,\n",
    "'hypoth_equivalog_domain':70,\n",
    "'BlastRuleEquivalog':69,\n",
    "'BlastRuleSubPlus':65,\n",
    "'Domain architecture':60,\n",
    "'PfamEq':57,\n",
    "'subfamily':55,\n",
    "'subfamily_domain':52,\n",
    "'BlastRuleSubMinus':50,\n",
    "'BlastRuleCOLLAB':41,\n",
    "'PfamAutoEq':37,\n",
    "'paralog':36,\n",
    "'paralog_domain':35,\n",
    "'superfamily':33,\n",
    "'domain':30,\n",
    "'repeat':25,\n",
    "'signature':22\n",
    "}"
   ]
  },
  {
   "cell_type": "code",
   "execution_count": 354,
   "id": "c3c8c2d9-1264-429a-99aa-4ee00337ed96",
   "metadata": {},
   "outputs": [],
   "source": [
    "\"\"\"\n",
    "############### SPARCLE ###############\n",
    "\"\"\"\n",
    "# function to read xml\n",
    "def read_sparcle_xml(file_path):\n",
    "    with open(file_path, 'r') as xml_handle:\n",
    "        xml_data = xml_handle.read()\n",
    "    return read_xml_as_df(xml_data)    \n",
    "\n",
    "# function to turn string of xml into a file path\n",
    "def read_xml_as_df(xml_to_parse):\n",
    "    #this will create a json object\n",
    "    data = json.loads(json.dumps(xmltodict.parse(xml_to_parse)))\n",
    "\n",
    "    # this will put all items into a single row\n",
    "    dic_flattened = (flatten(d, '.') for d in data['NameAssignment']['Protein'])\n",
    "    df = pd.DataFrame(dic_flattened)\n",
    "    return df\n",
    "\n",
    "# function to parse sparcle data \n",
    "def parse_sparcle_data(df):\n",
    "    df['orf_uid'] = sparcle_data['@seq-id'].apply(lambda x: x.split('|')[1])\n",
    "    df = df.rename(columns={'AssignedName':'name',\n",
    "                       'Support.SPARCLE.SpecificArch':'assignment_acc',\n",
    "                       'Precedence.confidence':'precedence'})\n",
    "    df['precedence'] = df['precedence'].astype(int)\n",
    "    columns = ['orf_uid', 'name', 'assignment_acc', 'precedence']\n",
    "    return df[columns]\n",
    "\n",
    "\"\"\"\n",
    "############### HMM ###############\n",
    "\"\"\"\n",
    "hmm_table_columns = ['target_name','target_accession','query_name','query_accession', \n",
    "                      'full_e_value', 'full_score', 'full_bias', \n",
    "                      'best_domain_e_value', 'best_domain_score', 'best_domain_bias', \n",
    "                      'exp', 'reg', 'clu',  'ov', 'env', 'dom', 'rep', 'inc']\n",
    "\n",
    "# function to read HMMER3.0 tblout as pandas df\n",
    "def read_hmm_table_pandas(file_path):\n",
    "    # read table with special parameters\n",
    "    pfam_as_table = pd.read_table(file_path, skiprows=3,  skipfooter=10, sep='\\s+', header=None, engine='python', usecols=list(range(18)))\n",
    "    pfam_as_table.columns = hmm_table_columns\n",
    "    return pfam_as_table\n",
    "\n",
    "def parse_hmm_data(df, hmm_md, precedences):\n",
    "    # merge with hmm data\n",
    "    merged = pd.merge(df, hmm_md[['#ncbi_accession', 'product_name', 'sequence_cutoff', 'domain_cutoff', 'family_type']],\n",
    "         left_on='query_accession', right_on='#ncbi_accession')\n",
    "    # subset to hits\n",
    "    merged = merged[(merged.full_score >= merged.sequence_cutoff) & (merged.best_domain_score >= merged.domain_cutoff)]\n",
    "    # reformat columns\n",
    "    merged['precedence'] = merged['family_type'].map(precedences).astype(int)\n",
    "    merged = merged.rename(columns={'target_name':'orf_uid',\n",
    "                                    'query_accession':'assignment_acc',\n",
    "                                    'product_name':'name'})\n",
    "    columns = ['orf_uid', 'name', 'assignment_acc', 'precedence']\n",
    "    return merged[columns]\n",
    "\n",
    "\"\"\"\n",
    "############### BLAST ###############\n",
    "\"\"\"\n",
    "\n",
    "blast6_fmt_str = '\"6 qseqid sseqid pident length mismatch gapopen qlen qstart qend slen sstart send evalue bitscore\"'\n",
    "\n",
    "def read_blast_table(file_path):\n",
    "    data = pd.read_csv(file_path, sep='\\t', header=None)\n",
    "    data.columns = blast6_fmt_str.replace('\"', '').split(' ')[1:]\n",
    "    \n",
    "    return data\n",
    "\n",
    "def parse_blast_data(df, blastrules_md, precedences):\n",
    "    \n",
    "    df['scov'] = (df['send'] - df['sstart']) / df['slen']\n",
    "    df['qcov'] = (df['qend'] - df['qstart']) / df['qlen']\n",
    "    \n",
    "    # split acc column\n",
    "    df['assignment_acc'] = df['sseqid'].apply(lambda x: x.split('|')[3].split('.')[0])\n",
    "\n",
    "    blastrules_cols = ['Name', 'WP_Proteins', 'Identity', 'Model_pct', 'Target_pct', 'Rule_type']\n",
    "    data_cols = ['qseqid', 'assignment_acc', 'pident', 'scov', 'qcov']\n",
    "    \n",
    "    # merge with metadata to get cutoffs and precedence\n",
    "    merged = pd.merge(df[data_cols], blastrules_md[blastrules_cols], left_on='assignment_acc', right_on='WP_Proteins')\n",
    "\n",
    "    # filter\n",
    "    merged = merged[(merged['pident'] >= merged['Identity'])\n",
    "                & (merged['scov'] >= merged['Model_pct'])\n",
    "                & (merged['qcov'] >= merged['Target_pct'])]\n",
    "\n",
    "    # add precedence\n",
    "    merged['precedence'] = merged['Rule_type'].map(precedences).astype(int)\n",
    "    columns = ['orf_uid', 'name', 'assignment_acc', 'precedence']\n",
    "    \n",
    "    # renaming\n",
    "    merged = merged.rename(columns={'qseqid':'orf_uid',\n",
    "                                'Name':'name'})\n",
    "    return merged[columns]"
   ]
  },
  {
   "cell_type": "markdown",
   "id": "5752130a-4c63-4ba1-b482-2045637e6b7f",
   "metadata": {},
   "source": [
    "## SparcleLabel ribosomal protein annotation process"
   ]
  },
  {
   "cell_type": "markdown",
   "id": "492fcf0a-d42d-4cfe-af70-8f0f7ac82168",
   "metadata": {},
   "source": [
    "### Steps\n",
    "1. Get cddid_tbl.gz\n",
    "```\n",
    "wget https://ftp.ncbi.nih.gov/pub/mmdb/cdd/cddid.tbl.gz\n",
    "```\n",
    "on May 26, 2022\n",
    "2. Get cdd\n",
    "```\n",
    "wget cdd.tar.gz\n",
    "tar -xzf cdd.tar.gz\n",
    "mkdir smp\n",
    "mv *.smp smp\n",
    "```"
   ]
  },
  {
   "cell_type": "code",
   "execution_count": 6,
   "id": "e37b85f3-fa45-43a6-b998-49845c98dabd",
   "metadata": {},
   "outputs": [],
   "source": [
    "cddid_tbl = pd.read_csv('/data/mhoffert/db/cdd/cddid.tbl', sep='\\t', header=None)\n",
    "cddid_tbl.columns = '''PSSM-Id\n",
    "CD accession\n",
    "CD short name\n",
    "CD description\n",
    "PSSM-Length'''.split('\\n')"
   ]
  },
  {
   "cell_type": "code",
   "execution_count": 13,
   "id": "d9e1698a-b57a-4d57-b52e-7b63d61c5c0b",
   "metadata": {},
   "outputs": [],
   "source": [
    "psms = glob.glob('/data/mhoffert/db/cdd/smp/*')"
   ]
  },
  {
   "cell_type": "code",
   "execution_count": 14,
   "id": "1830c0fb-f341-4726-a54d-68d9ee18f20b",
   "metadata": {},
   "outputs": [
    {
     "data": {
      "text/plain": [
       "'/data/mhoffert/db/cdd/smp/cd00001.smp'"
      ]
     },
     "execution_count": 14,
     "metadata": {},
     "output_type": "execute_result"
    }
   ],
   "source": [
    "psms[0]"
   ]
  },
  {
   "cell_type": "code",
   "execution_count": 16,
   "id": "38db04e7-403d-462e-a93e-68f9ee8f09a4",
   "metadata": {},
   "outputs": [],
   "source": [
    "ribosomal_proteins = cddid_tbl[cddid_tbl['CD description'].str.contains('ribosomal protein')]['CD accession'].values\n",
    "\n",
    "smp_list = [f'/data/mhoffert/db/cdd/smp/{protein}.smp' for protein in ribosomal_proteins if f'/data/mhoffert/db/cdd/smp/{protein}.smp' in psms]"
   ]
  },
  {
   "cell_type": "code",
   "execution_count": 19,
   "id": "a10ae8c3-7a1b-4cbd-aefa-8e6d8f5edc8c",
   "metadata": {},
   "outputs": [],
   "source": [
    "with open('/data/mhoffert/db/cdd/ribosomal_proteins.pn', 'w') as pn_file:\n",
    "    pn_file.write('\\n'.join(smp_list))"
   ]
  },
  {
   "cell_type": "markdown",
   "id": "33455f4d-1186-4ce9-8f9e-5dbbe933e0ed",
   "metadata": {},
   "source": [
    "```\n",
    "~/tools/SparcleLabel/SparcleLabel-x64-linux/ncbi-blast-2.13.0+/bin/makeprofiledb -title ribosomal_proteins -in ribosomal_proteins.pn -out ribosomal_proteins -threshold 9.92 -scale 100.0 -dbtype rps -index true\n",
    "```"
   ]
  },
  {
   "cell_type": "markdown",
   "id": "0b5eb03d-cc6a-49a5-8096-9b5733e45542",
   "metadata": {},
   "source": [
    "## PGAP HMM ribosomal protein process"
   ]
  },
  {
   "cell_type": "markdown",
   "id": "8ecc6a49-7a32-4294-b16a-451df7d9024e",
   "metadata": {},
   "source": [
    "### Steps\n",
    "1. Get PGAP hmms and unpack\n",
    "```\n",
    "wget https://ftp.ncbi.nih.gov/hmm/current/hmm_PGAP.HMM.tgz\n",
    "tar -xzvf hmm_PGAP.HMM.tgz\n",
    "```\n",
    "2. Read tsv file\n",
    "```\n",
    "https://ftp.ncbi.nih.gov/hmm/current/hmm_PGAP.tsv\n",
    "```"
   ]
  },
  {
   "cell_type": "code",
   "execution_count": 122,
   "id": "eb9949e4-6e81-4cf9-9ccb-ba3634200137",
   "metadata": {},
   "outputs": [],
   "source": [
    "pgap_hmm = pd.read_csv('/data/mhoffert/db/pgap_ribosomal/hmm_PGAP.tsv', sep='\\t')"
   ]
  },
  {
   "cell_type": "code",
   "execution_count": 53,
   "id": "3bba14dd-8b03-458a-877d-b0e004b6d820",
   "metadata": {},
   "outputs": [
    {
     "data": {
      "text/plain": [
       "equivalog                  10928\n",
       "domain                      8161\n",
       "subfamily                   3363\n",
       "PfamEq                      2260\n",
       "PfamAutoEq                  1217\n",
       "exception                    918\n",
       "hypoth_equivalog             456\n",
       "equivalog_domain             204\n",
       "subfamily_domain             198\n",
       "repeat                       117\n",
       "hypoth_equivalog_domain       39\n",
       "paralog                       28\n",
       "superfamily                   27\n",
       "paralog_domain                15\n",
       "signature                      5\n",
       "Name: family_type, dtype: int64"
      ]
     },
     "execution_count": 53,
     "metadata": {},
     "output_type": "execute_result"
    }
   ],
   "source": [
    "pgap_hmm.family_type.value_counts()"
   ]
  },
  {
   "cell_type": "code",
   "execution_count": 36,
   "id": "10970cf3-e557-47ed-914f-1e5d160eaa1d",
   "metadata": {},
   "outputs": [],
   "source": [
    "hmms = glob.glob('/data/mhoffert/db/pgap_ribosomal/hmm_PGAP/*.HMM')"
   ]
  },
  {
   "cell_type": "code",
   "execution_count": 38,
   "id": "e7490601-ba2a-42b5-803a-c6bbed3a6392",
   "metadata": {},
   "outputs": [],
   "source": [
    "ribosomal_hmms = pgap_hmm[pgap_hmm.product_name.str.contains('ribosomal protein')]['#ncbi_accession'].unique()\n",
    "\n",
    "hmm_list = [f'/data/mhoffert/db/pgap_ribosomal/hmm_PGAP/{acc}.HMM' for acc in ribosomal_hmms if f'/data/mhoffert/db/pgap_ribosomal/hmm_PGAP/{acc}.HMM' in hmms]"
   ]
  },
  {
   "cell_type": "code",
   "execution_count": 44,
   "id": "41b23ff2-62dd-41f6-90f4-bc6f9fe8a898",
   "metadata": {},
   "outputs": [
    {
     "data": {
      "text/plain": [
       "244"
      ]
     },
     "metadata": {},
     "output_type": "display_data"
    }
   ],
   "source": [
    "for i, hmm in enumerate(hmm_list):\n",
    "    display(i)\n",
    "    clear_output(wait=True)\n",
    "    os.system(f'cat {hmm} >> /data/mhoffert/db/pgap_ribosomal/ribosomal_hmm')"
   ]
  },
  {
   "cell_type": "markdown",
   "id": "1901f20f-6619-4784-8080-0c56a9645a44",
   "metadata": {},
   "source": [
    "Press HMMs according to these instructions: http://eddylab.org/software/hmmer3/3.1b2/Userguide.pdf pp 33\n",
    "```\n",
    "hmmpress ribosomal_hmm\n",
    "```"
   ]
  },
  {
   "cell_type": "code",
   "execution_count": 46,
   "id": "d6d7dfef-5293-4cd6-a7ff-e7e179699a8a",
   "metadata": {},
   "outputs": [
    {
     "data": {
      "text/plain": [
       "array(['#ncbi_accession', 'source_identifier', 'label', 'sequence_cutoff',\n",
       "       'domain_cutoff', 'hmm_length', 'family_type',\n",
       "       'for_structural_annotation', 'for_naming', 'for_AMRFinder',\n",
       "       'product_name', 'gene_symbol', 'ec_numbers', 'go_terms', 'pmids',\n",
       "       'taxonomic_range', 'taxonomic_range_name', 'taxonomic_rank_name',\n",
       "       'n_refseq_protein_hits', 'source', 'name_orig'], dtype=object)"
      ]
     },
     "execution_count": 46,
     "metadata": {},
     "output_type": "execute_result"
    }
   ],
   "source": [
    "pgap_hmm.columns.values"
   ]
  },
  {
   "cell_type": "markdown",
   "id": "a33343d3-7a59-4eb8-b0ba-ccb9049aba46",
   "metadata": {},
   "source": [
    "### Blastrules"
   ]
  },
  {
   "cell_type": "markdown",
   "id": "02eb0a8b-ae8e-4d1d-bb03-222c75bf5e98",
   "metadata": {},
   "source": [
    "Download proteins and blastrules:\n",
    "    ```\n",
    "    https://ftp.ncbi.nih.gov/pub/blastrules/RELEASE_4.0/\n",
    "    ```"
   ]
  },
  {
   "cell_type": "code",
   "execution_count": 111,
   "id": "4052fc92-ff2a-4446-82ce-0b1b16049c25",
   "metadata": {},
   "outputs": [],
   "source": [
    "blastrules = pd.read_csv('/data/mhoffert/db/pgap_ribosomal/blastrules_4.0/blast-rules_4.0.tsv', sep='\\t', encoding='latin1')"
   ]
  },
  {
   "cell_type": "code",
   "execution_count": 59,
   "id": "c23e9d5b-845c-419d-b433-5798ce3eed62",
   "metadata": {},
   "outputs": [],
   "source": [
    "ribosomal_blastrules = [p for plist in blastrules[blastrules['Name'].str.contains('ribosomal protein')]['WP_Proteins'].apply(lambda x: x.split(',')) for p in plist]"
   ]
  },
  {
   "cell_type": "code",
   "execution_count": 64,
   "id": "fd5739f4-942f-4348-991b-a3e6a93cd5b4",
   "metadata": {},
   "outputs": [],
   "source": [
    "with open('/data/mhoffert/db/pgap_ribosomal/blastrules_4.0/proteins.fasta', 'r') as proteins_fasta:\n",
    "    records = [r for r in SeqIO.parse(proteins_fasta, format='fasta')]\n",
    "    "
   ]
  },
  {
   "cell_type": "code",
   "execution_count": 65,
   "id": "dcf874d2-3155-446b-b49a-f2df5fff4247",
   "metadata": {},
   "outputs": [],
   "source": [
    "ribosomal_records = [r for r in records if any(s in r.id for s in ribosomal_blastrules) ]"
   ]
  },
  {
   "cell_type": "code",
   "execution_count": 68,
   "id": "c1af027f-b02a-4672-a2a0-fd0591260c2f",
   "metadata": {},
   "outputs": [],
   "source": [
    "with open('/data/mhoffert/db/pgap_ribosomal/blastrules_4.0/ribosomal_proteins.fasta', 'w') as ribosomal_proteins_fasta:\n",
    "    SeqIO.write(ribosomal_records, ribosomal_proteins_fasta, 'fasta')"
   ]
  },
  {
   "cell_type": "markdown",
   "id": "a4121e2f-32d2-4e79-b3a7-51175b571cee",
   "metadata": {},
   "source": [
    "```\n",
    "makeblastdb -in ribosomal_proteins.fasta -dbtype prot -out ribosomal_proteins\n",
    "```"
   ]
  },
  {
   "cell_type": "markdown",
   "id": "0fed6cfd-82a6-4866-b376-785d04a114bc",
   "metadata": {},
   "source": [
    "### Test pipeline"
   ]
  },
  {
   "cell_type": "code",
   "execution_count": 239,
   "id": "6a3b8bf0-36a6-4dc5-9d38-dc0add97e43a",
   "metadata": {},
   "outputs": [
    {
     "name": "stderr",
     "output_type": "stream",
     "text": [
      "Columns (13) have mixed types. Specify dtype option on import or set low_memory=False.\n"
     ]
    }
   ],
   "source": [
    "eggo_data = pd.read_csv('/data/mhoffert/tools/eggo/Data/EGGO.csv')"
   ]
  },
  {
   "cell_type": "code",
   "execution_count": 246,
   "id": "f647f19a-5464-401e-9bd2-1fb0f22f44a5",
   "metadata": {},
   "outputs": [
    {
     "data": {
      "text/html": [
       "<div>\n",
       "<style scoped>\n",
       "    .dataframe tbody tr th:only-of-type {\n",
       "        vertical-align: middle;\n",
       "    }\n",
       "\n",
       "    .dataframe tbody tr th {\n",
       "        vertical-align: top;\n",
       "    }\n",
       "\n",
       "    .dataframe thead th {\n",
       "        text-align: right;\n",
       "    }\n",
       "</style>\n",
       "<table border=\"1\" class=\"dataframe\">\n",
       "  <thead>\n",
       "    <tr style=\"text-align: right;\">\n",
       "      <th></th>\n",
       "      <th>Unnamed: 0</th>\n",
       "      <th>nHE</th>\n",
       "      <th>FilteredSequences</th>\n",
       "      <th>d</th>\n",
       "      <th>LowerCI</th>\n",
       "      <th>UpperCI</th>\n",
       "      <th>d.madin</th>\n",
       "      <th>LowerCI.madin</th>\n",
       "      <th>UpperCI.madin</th>\n",
       "      <th>Assembly</th>\n",
       "      <th>Source</th>\n",
       "      <th>Mode</th>\n",
       "      <th>Type</th>\n",
       "      <th>Environment</th>\n",
       "    </tr>\n",
       "  </thead>\n",
       "  <tbody>\n",
       "    <tr>\n",
       "      <th>0</th>\n",
       "      <td>1</td>\n",
       "      <td>53</td>\n",
       "      <td>78</td>\n",
       "      <td>4.953194</td>\n",
       "      <td>3.678089</td>\n",
       "      <td>6.758172</td>\n",
       "      <td>4.167909</td>\n",
       "      <td>3.217277</td>\n",
       "      <td>5.452817</td>\n",
       "      <td>GCF_004214875.1_ASM421487v1</td>\n",
       "      <td>RefSeq Assemblies</td>\n",
       "      <td>Full</td>\n",
       "      <td>Isolate</td>\n",
       "      <td>NaN</td>\n",
       "    </tr>\n",
       "    <tr>\n",
       "      <th>1</th>\n",
       "      <td>2</td>\n",
       "      <td>53</td>\n",
       "      <td>199</td>\n",
       "      <td>5.045133</td>\n",
       "      <td>3.771657</td>\n",
       "      <td>6.833362</td>\n",
       "      <td>4.350184</td>\n",
       "      <td>3.370865</td>\n",
       "      <td>5.667857</td>\n",
       "      <td>GCF_000744065.1_ASM74406v1</td>\n",
       "      <td>RefSeq Assemblies</td>\n",
       "      <td>Full</td>\n",
       "      <td>Isolate</td>\n",
       "      <td>NaN</td>\n",
       "    </tr>\n",
       "    <tr>\n",
       "      <th>2</th>\n",
       "      <td>3</td>\n",
       "      <td>54</td>\n",
       "      <td>37</td>\n",
       "      <td>4.306077</td>\n",
       "      <td>3.037874</td>\n",
       "      <td>6.215246</td>\n",
       "      <td>3.271171</td>\n",
       "      <td>2.437223</td>\n",
       "      <td>4.446947</td>\n",
       "      <td>GCF_009268075.1_ASM926807v1</td>\n",
       "      <td>RefSeq Assemblies</td>\n",
       "      <td>Full</td>\n",
       "      <td>Isolate</td>\n",
       "      <td>NaN</td>\n",
       "    </tr>\n",
       "    <tr>\n",
       "      <th>3</th>\n",
       "      <td>5</td>\n",
       "      <td>59</td>\n",
       "      <td>1674</td>\n",
       "      <td>9.618230</td>\n",
       "      <td>7.245196</td>\n",
       "      <td>12.920418</td>\n",
       "      <td>9.329283</td>\n",
       "      <td>7.392557</td>\n",
       "      <td>11.866987</td>\n",
       "      <td>GCF_000196515.1_ASM19651v1</td>\n",
       "      <td>RefSeq Assemblies</td>\n",
       "      <td>Full</td>\n",
       "      <td>Isolate</td>\n",
       "      <td>NaN</td>\n",
       "    </tr>\n",
       "    <tr>\n",
       "      <th>4</th>\n",
       "      <td>6</td>\n",
       "      <td>54</td>\n",
       "      <td>38</td>\n",
       "      <td>4.253248</td>\n",
       "      <td>2.979781</td>\n",
       "      <td>6.186532</td>\n",
       "      <td>3.210227</td>\n",
       "      <td>2.378910</td>\n",
       "      <td>4.389904</td>\n",
       "      <td>GCF_009268105.1_ASM926810v1</td>\n",
       "      <td>RefSeq Assemblies</td>\n",
       "      <td>Full</td>\n",
       "      <td>Isolate</td>\n",
       "      <td>NaN</td>\n",
       "    </tr>\n",
       "  </tbody>\n",
       "</table>\n",
       "</div>"
      ],
      "text/plain": [
       "   Unnamed: 0  nHE  FilteredSequences         d   LowerCI    UpperCI  \\\n",
       "0           1   53                 78  4.953194  3.678089   6.758172   \n",
       "1           2   53                199  5.045133  3.771657   6.833362   \n",
       "2           3   54                 37  4.306077  3.037874   6.215246   \n",
       "3           5   59               1674  9.618230  7.245196  12.920418   \n",
       "4           6   54                 38  4.253248  2.979781   6.186532   \n",
       "\n",
       "    d.madin  LowerCI.madin  UpperCI.madin                     Assembly  \\\n",
       "0  4.167909       3.217277       5.452817  GCF_004214875.1_ASM421487v1   \n",
       "1  4.350184       3.370865       5.667857   GCF_000744065.1_ASM74406v1   \n",
       "2  3.271171       2.437223       4.446947  GCF_009268075.1_ASM926807v1   \n",
       "3  9.329283       7.392557      11.866987   GCF_000196515.1_ASM19651v1   \n",
       "4  3.210227       2.378910       4.389904  GCF_009268105.1_ASM926810v1   \n",
       "\n",
       "              Source  Mode     Type Environment  \n",
       "0  RefSeq Assemblies  Full  Isolate         NaN  \n",
       "1  RefSeq Assemblies  Full  Isolate         NaN  \n",
       "2  RefSeq Assemblies  Full  Isolate         NaN  \n",
       "3  RefSeq Assemblies  Full  Isolate         NaN  \n",
       "4  RefSeq Assemblies  Full  Isolate         NaN  "
      ]
     },
     "execution_count": 246,
     "metadata": {},
     "output_type": "execute_result"
    }
   ],
   "source": [
    "eggo_data.head()"
   ]
  },
  {
   "cell_type": "code",
   "execution_count": 306,
   "id": "04d382bd-1776-4a7d-885c-ef163b4fec2a",
   "metadata": {},
   "outputs": [
    {
     "data": {
      "text/plain": [
       "<AxesSubplot:xlabel='d', ylabel='Count'>"
      ]
     },
     "execution_count": 306,
     "metadata": {},
     "output_type": "execute_result"
    },
    {
     "data": {
      "image/png": "[encoded data removed]",
      "text/plain": [
       "<Figure size 432x288 with 1 Axes>"
      ]
     },
     "metadata": {
      "needs_background": "light"
     },
     "output_type": "display_data"
    }
   ],
   "source": [
    "sns.histplot(eggo_data.head(1000)['d'])"
   ]
  },
  {
   "cell_type": "code",
   "execution_count": 256,
   "id": "10754cce-a0c8-4cfe-9b66-1228de0b6560",
   "metadata": {},
   "outputs": [],
   "source": [
    "test_genomes = []\n",
    "for index, row in eggo_data.head(500).iterrows():\n",
    "    genome_id = 'RS_'+'_'.join(row['Assembly'].split('_')[:2])\n",
    "    # print(genome_id)\n",
    "    if os.path.exists(f'/data/mhoffert/genomes/GTDB_r207/protein_faa_reps/bacteria/{genome_id}_protein.faa'):\n",
    "        test_genomes.append(f'{genome_id}')\n",
    "    "
   ]
  },
  {
   "cell_type": "code",
   "execution_count": 257,
   "id": "9bfc51a2-751d-4c06-9522-90ce77488c9d",
   "metadata": {},
   "outputs": [],
   "source": [
    "with open('/data/mhoffert/realmichaelhoffert/ribosomal_proteins/test_genomes_list.txt', 'w') as handle:\n",
    "    handle.write('\\n'.join(test_genomes))"
   ]
  },
  {
   "cell_type": "code",
   "execution_count": 3,
   "id": "92314c1e-f078-4cc1-99c8-266f9c41cf3e",
   "metadata": {},
   "outputs": [
    {
     "data": {
      "text/plain": [
       "'/data/mhoffert/genomes/GTDB_r207/pgap_ribosomal_results/RS_GCF_009268075.1'"
      ]
     },
     "execution_count": 3,
     "metadata": {},
     "output_type": "execute_result"
    }
   ],
   "source": [
    "for test_genome in test_genomes\n",
    "test_genome = '/data/mhoffert/genomes/GTDB_r207/protein_faa_reps/bacteria/RS_GCF_009268075.1_protein.faa'\n",
    "test_genome_split = test_genome.split('/')[-1].replace('_protein.faa', '')\n",
    "out_path = f'/data/mhoffert/genomes/GTDB_r207/pgap_ribosomal_results/{test_genome_split}'\n",
    "\n",
    "out_path"
   ]
  },
  {
   "cell_type": "code",
   "execution_count": 4,
   "id": "7b429121-146d-4c70-b3bc-db8746d92d3f",
   "metadata": {},
   "outputs": [],
   "source": [
    "main_wd = '/data/mhoffert/realmichaelhoffert/ribosomal_proteins/notebooks/'"
   ]
  },
  {
   "cell_type": "code",
   "execution_count": 5,
   "id": "a505103a-5180-4f95-8b91-b86e5f5f3696",
   "metadata": {},
   "outputs": [
    {
     "data": {
      "text/plain": [
       "'/data/mhoffert/tools/SparcleLabel/SparcleLabel-x64-linux'"
      ]
     },
     "execution_count": 5,
     "metadata": {},
     "output_type": "execute_result"
    }
   ],
   "source": [
    "os.getcwd()"
   ]
  },
  {
   "cell_type": "markdown",
   "id": "4cd23e13-0c94-4e2a-9e3e-a47c2058d5e9",
   "metadata": {
    "tags": []
   },
   "source": [
    "### First: Sparcle pipeline\n",
    "Run from installation directory for Sparcle pipeline"
   ]
  },
  {
   "cell_type": "code",
   "execution_count": 8,
   "id": "2880676b-13e2-4c70-9d00-57f477bffe39",
   "metadata": {},
   "outputs": [
    {
     "name": "stdout",
     "output_type": "stream",
     "text": [
      "/data/mhoffert/tools/SparcleLabel/SparcleLabel-x64-linux\n",
      "running command 1\n",
      "./rpsblast -parse_deflines -query /data/mhoffert/genomes/GTDB_r207/protein_faa_reps/bacteria/RS_GCF_009268075.1_protein.faa -db /data/mhoffert/db/cdd/ribosomal_proteins -evalue 0.01 -outfmt 11 -out /data/mhoffert/genomes/GTDB_r207/pgap_ribosomal_results/RS_GCF_009268075.1.asn\n",
      "/data/mhoffert/tools/SparcleLabel/SparcleLabel-x64-linux\n",
      "running command 2\n",
      "./sparclbl -p precedences_sample.txt -o /data/mhoffert/genomes/GTDB_r207/pgap_ribosomal_results/RS_GCF_009268075.1.xml /data/mhoffert/genomes/GTDB_r207/pgap_ribosomal_results/RS_GCF_009268075.1.asn\n"
     ]
    }
   ],
   "source": [
    "print(f'./rpsblast -parse_deflines -query {test_genome} -db /data/mhoffert/db/cdd/ribosomal_proteins -evalue 0.01 -outfmt 11 -out {out_path}.asn')\n",
    "print(f'./sparclbl -p precedences_sample.txt -o {out_path}.xml {out_path}.asn')\n"
   ]
  },
  {
   "cell_type": "markdown",
   "id": "0004743c-aa35-4ad7-bf02-21ac6109a469",
   "metadata": {},
   "source": [
    "Run: `./run_ribosomal_pipeline.sh /data/mhoffert/realmichaelhoffert/ribosomal_proteins/test_genomes_list.txt` from /data/mhoffert/realmichaelhoffert/ribosomal_proteins/  \n",
    "For some reason, running the commands in the jupter notebook doesn't work"
   ]
  },
  {
   "cell_type": "markdown",
   "id": "d4ba8b43-a2d4-4549-a8b0-1157c3075af7",
   "metadata": {},
   "source": [
    "### Second: HMM pipeline"
   ]
  },
  {
   "cell_type": "code",
   "execution_count": 268,
   "id": "04f3fdb9-8ef2-4273-a976-c851d4710f4e",
   "metadata": {},
   "outputs": [
    {
     "data": {
      "text/plain": [
       "'99.32%'"
      ]
     },
     "metadata": {},
     "output_type": "display_data"
    }
   ],
   "source": [
    "faa_path = '/data/mhoffert/genomes/GTDB_r207/protein_faa_reps/bacteria/'\n",
    "for i, test_genome in enumerate(test_genomes):\n",
    "    display(f'{i / len(test_genomes) * 100:.2f}%')\n",
    "    clear_output(wait=True)\n",
    "    \n",
    "    out_path = f'/data/mhoffert/genomes/GTDB_r207/pgap_ribosomal_results/{test_genome}'\n",
    "    os.system(f'hmmsearch --cpu 8 -o {out_path}.hmmout --tblout {out_path}.tblout /data/mhoffert/db/pgap_ribosomal/ribosomal_hmm {faa_path}{test_genome}_protein.faa')"
   ]
  },
  {
   "cell_type": "code",
   "execution_count": 267,
   "id": "9dc005f3-822f-482f-81f3-3404d3264c9d",
   "metadata": {},
   "outputs": [
    {
     "name": "stdout",
     "output_type": "stream",
     "text": [
      "hmmsearch --cpu 8 -o /data/mhoffert/genomes/GTDB_r207/pgap_ribosomal_results/RS_GCF_000687875.1.hmmout --tblout /data/mhoffert/genomes/GTDB_r207/pgap_ribosomal_results/RS_GCF_000687875.1.tblout /data/mhoffert/db/pgap_ribosomal/ribosomal_hmm /data/mhoffert/genomes/GTDB_r207/protein_faa_reps/bacteria/RS_GCF_000687875.1_protein.faa\n"
     ]
    }
   ],
   "source": [
    "print(f'hmmsearch --cpu 8 -o {out_path}.hmmout --tblout {out_path}.tblout /data/mhoffert/db/pgap_ribosomal/ribosomal_hmm {faa_path}{test_genome}_protein.faa')"
   ]
  },
  {
   "cell_type": "markdown",
   "id": "ecf60a56-24f0-4da5-a13c-033b40e00812",
   "metadata": {},
   "source": [
    "### Third: blast pipeline"
   ]
  },
  {
   "cell_type": "code",
   "execution_count": 269,
   "id": "155d0e07-6fac-4248-a3ea-6e42920bc560",
   "metadata": {},
   "outputs": [
    {
     "name": "stdout",
     "output_type": "stream",
     "text": [
      "CPU times: user 404 ms, sys: 104 ms, total: 508 ms\n",
      "Wall time: 34min 32s\n"
     ]
    }
   ],
   "source": [
    "%%time\n",
    "blast_db = '/data/mhoffert/db/pgap_ribosomal/blastrules_4.0/ribosomal_proteins'\n",
    "blast6_fmt_str = '\"6 qseqid sseqid pident length mismatch gapopen qlen qstart qend slen sstart send evalue bitscore\"'\n",
    "for i, test_genome in enumerate(test_genomes):\n",
    "    display(f'{i / len(test_genomes) * 100:.2f}%')\n",
    "    clear_output(wait=True)\n",
    "    \n",
    "    out_path = f'/data/mhoffert/genomes/GTDB_r207/pgap_ribosomal_results/{test_genome}'\n",
    "    os.system(f'blastp -num_threads 8 -query {faa_path}{test_genome}_protein.faa -db {blast_db} -out {out_path}.blast6out -outfmt {blast6_fmt_str}')"
   ]
  },
  {
   "cell_type": "markdown",
   "id": "59073c28-d5e4-466f-b8cc-4baaa68aa229",
   "metadata": {},
   "source": [
    "## Parsing results"
   ]
  },
  {
   "cell_type": "code",
   "execution_count": 356,
   "id": "d8aeef16-4b49-47ab-8ee2-0cc4b2bdf0e3",
   "metadata": {},
   "outputs": [
    {
     "data": {
      "text/plain": [
       "'99.32%'"
      ]
     },
     "metadata": {},
     "output_type": "display_data"
    }
   ],
   "source": [
    "for i, test_genome in enumerate(test_genomes):\n",
    "    display(f'{i / len(test_genomes) * 100:.2f}%')\n",
    "    clear_output(wait=True)\n",
    "    \n",
    "    out_path = f'/data/mhoffert/genomes/GTDB_r207/pgap_ribosomal_results/{test_genome}'\n",
    "    \n",
    "    # parse the sparcle data\n",
    "    sparcle_data = read_sparcle_xml(f'{out_path}.xml')\n",
    "    sparcle_df = parse_sparcle_data(sparcle_data)\n",
    "\n",
    "    # parse the blast data\n",
    "    blast_data = read_blast_table(f'{out_path}.blast6out')\n",
    "    blast_df = parse_blast_data(blast_data, blastrules, rule_precedences)\n",
    "\n",
    "    # parse the hmm data\n",
    "    hmm_data = read_hmm_table_pandas(f'{out_path}.tblout')\n",
    "    hmm_df = parse_hmm_data(hmm_data, pgap_hmm, rule_precedences)\n",
    "\n",
    "    # for df in [sparcle_df, blast_df, hmm_df]:\n",
    "    #     print(df.shape)\n",
    "    # time.sleep(1)\n",
    "\n",
    "    all_ribosomal_proteins = pd.concat([sparcle_df, blast_df, hmm_df])\n",
    "\n",
    "    selected_ribosomal_annotations = all_ribosomal_proteins.groupby('orf_uid').apply(lambda x: x.sort_values('precedence', ascending=False).iloc[0, :])\n",
    "\n",
    "    # test_genome_split\n",
    "\n",
    "    nt_fasta_base_path = '/data/mhoffert/genomes/GTDB_r207/protein_fna_reps/bacteria/'\n",
    "    nt_fasta = f'{nt_fasta_base_path}{test_genome}_protein.fna'\n",
    "\n",
    "    # import time\n",
    "\n",
    "    with open(nt_fasta, 'r') as input_fasta:\n",
    "        records = [r for r in SeqIO.parse(input_fasta, 'fasta')]\n",
    "\n",
    "    for r in records:\n",
    "        if r.id in selected_ribosomal_annotations.index:\n",
    "            annotation = selected_ribosomal_annotations.loc[r.id]\n",
    "            r.id = f'{r.id} {annotation[\"name\"]} ({annotation[\"assignment_acc\"]})'\n",
    "            r.description = ' '.join(r.description.split(' ')[1:])\n",
    "\n",
    "    with open(f'/data/mhoffert/genomes/GTDB_r207/grodon_format/{test_genome}_grodon_format.fna', 'w') as out_handle:\n",
    "            SeqIO.write(records, out_handle, 'fasta')"
   ]
  },
  {
   "cell_type": "code",
   "execution_count": 372,
   "id": "b18e5200-381b-47b5-aff8-2fe964f4c5da",
   "metadata": {},
   "outputs": [],
   "source": [
    "test_data = pd.read_csv('/data/mhoffert/test.csv', index_col=0)"
   ]
  },
  {
   "cell_type": "code",
   "execution_count": 373,
   "id": "8ee099d3-660e-43b1-8aa3-01009318a06f",
   "metadata": {},
   "outputs": [],
   "source": [
    "test_data['genome'] = test_data['paths'].apply(lambda x: x.split('/')[-1].split('_grodon')[0])"
   ]
  },
  {
   "cell_type": "code",
   "execution_count": 374,
   "id": "cf91d309-8cbd-4ec2-9541-86114e857c03",
   "metadata": {},
   "outputs": [],
   "source": [
    "eggo_data['genome'] = eggo_data['Assembly'].apply(lambda x: 'RS_'+'_'.join(x.split('_')[:2]))"
   ]
  },
  {
   "cell_type": "code",
   "execution_count": 375,
   "id": "eae68160-7221-4640-8379-8724c789aa5a",
   "metadata": {},
   "outputs": [],
   "source": [
    "eggo_measurements = eggo_data[eggo_data.genome.isin(test_data.genome.values)].set_index('genome').reindex(test_data['genome'].values)['d']"
   ]
  },
  {
   "cell_type": "code",
   "execution_count": 376,
   "id": "7be3902b-f824-425e-80db-ac222e624c11",
   "metadata": {},
   "outputs": [],
   "source": [
    "test_measurements = test_data.set_index('genome')['result_list']"
   ]
  },
  {
   "cell_type": "code",
   "execution_count": 383,
   "id": "9c8c02d2-4a5a-4636-924c-f2b25766aa8d",
   "metadata": {},
   "outputs": [
    {
     "data": {
      "text/plain": [
       "Text(0.5, 0, 'd, EGGO')"
      ]
     },
     "execution_count": 383,
     "metadata": {},
     "output_type": "execute_result"
    },
    {
     "data": {
      "image/png": "[encoded data removed]",
      "text/plain": [
       "<Figure size 288x288 with 1 Axes>"
      ]
     },
     "metadata": {
      "needs_background": "light"
     },
     "output_type": "display_data"
    }
   ],
   "source": [
    "fig, ax = plt.subplots(figsize=(4, 4))\n",
    "sns.scatterplot(x=eggo_measurements, \n",
    "                y=test_measurements,\n",
    "                linewidth=0, alpha=0.75, s=100)\n",
    "plt.plot((0, 20), (0, 20))\n",
    "plt.tick_params(labelsize=14)\n",
    "ax.set_ylabel('d, my estimate', fontsize=16)\n",
    "ax.set_xlabel('d, EGGO', fontsize=16)"
   ]
  },
  {
   "cell_type": "code",
   "execution_count": 364,
   "id": "475afc8e-18b3-4446-a7c1-5173e12697fb",
   "metadata": {},
   "outputs": [],
   "source": [
    "from scipy.stats import spearmanr"
   ]
  },
  {
   "cell_type": "code",
   "execution_count": 378,
   "id": "107bc3da-81c0-4f79-9a6d-b3742950f1fb",
   "metadata": {},
   "outputs": [
    {
     "data": {
      "text/plain": [
       "SpearmanrResult(correlation=0.9084352734059191, pvalue=8.629758929595001e-57)"
      ]
     },
     "execution_count": 378,
     "metadata": {},
     "output_type": "execute_result"
    }
   ],
   "source": [
    "spearmanr(eggo_measurements, test_measurements)"
   ]
  },
  {
   "cell_type": "code",
   "execution_count": 371,
   "id": "8bf71e9f-6f6a-4fb4-a5a9-5015ddc1e7d5",
   "metadata": {},
   "outputs": [
    {
     "data": {
      "text/plain": [
       "'RS_GCF_010378095.1'"
      ]
     },
     "execution_count": 371,
     "metadata": {},
     "output_type": "execute_result"
    }
   ],
   "source": [
    "eggo_measurements.index[eggo_measurements.argmax()]"
   ]
  },
  {
   "cell_type": "code",
   "execution_count": 363,
   "id": "a696f137-e6ff-4834-9784-58d7acf0a49f",
   "metadata": {},
   "outputs": [
    {
     "data": {
      "text/plain": [
       "genome\n",
       "RS_GCF_000018105.1   -5.041994\n",
       "RS_GCF_000018785.1   -0.051609\n",
       "RS_GCF_000021485.1   -0.317926\n",
       "RS_GCF_000022565.1   -1.625586\n",
       "RS_GCF_000023265.1   -0.110809\n",
       "RS_GCF_000025305.1   -1.669807\n",
       "RS_GCF_000144695.1    0.163678\n",
       "RS_GCF_000154285.1   -0.269343\n",
       "RS_GCF_000160075.2   -0.244850\n",
       "RS_GCF_000160455.2   -2.168722\n",
       "RS_GCF_000165835.1   -1.188871\n",
       "RS_GCF_000175575.2    0.325437\n",
       "RS_GCF_000196455.1   -1.843861\n",
       "RS_GCF_000196515.1   -2.003609\n",
       "RS_GCF_000202835.1   -0.812571\n",
       "RS_GCF_000219125.1   -6.128773\n",
       "RS_GCF_000236785.1   -1.358713\n",
       "RS_GCF_000238775.1   -3.581516\n",
       "RS_GCF_000247605.1   -1.764848\n",
       "RS_GCF_000376245.1   -0.462640\n",
       "dtype: float64"
      ]
     },
     "execution_count": 363,
     "metadata": {},
     "output_type": "execute_result"
    }
   ],
   "source": [
    "eggo_measurements.head(20) - test_measurements.head(20)"
   ]
  },
  {
   "cell_type": "code",
   "execution_count": 335,
   "id": "32eadde1-ab74-44c5-be9b-58985c32a4b0",
   "metadata": {},
   "outputs": [
    {
     "data": {
      "text/plain": [
       "genome\n",
       "RS_GCF_000018105.1     9.289777\n",
       "RS_GCF_000018785.1     2.825539\n",
       "RS_GCF_000144695.1     6.271416\n",
       "RS_GCF_000154285.1     1.084743\n",
       "RS_GCF_000160075.2     0.285282\n",
       "RS_GCF_000160455.2    16.619129\n",
       "RS_GCF_000165835.1     1.792963\n",
       "RS_GCF_000196455.1     3.904831\n",
       "RS_GCF_000196515.1     9.618230\n",
       "RS_GCF_000219125.1    13.647700\n",
       "RS_GCF_000236785.1     1.353153\n",
       "RS_GCF_000238775.1    10.573170\n",
       "RS_GCF_000247605.1     5.734336\n",
       "RS_GCF_000376245.1     3.995577\n",
       "RS_GCF_000429165.1     1.901692\n",
       "RS_GCF_000472665.1     1.607256\n",
       "RS_GCF_000483165.1     1.237994\n",
       "RS_GCF_000526235.1     2.974528\n",
       "RS_GCF_000613285.1     3.288427\n",
       "RS_GCF_000613865.1     2.831328\n",
       "Name: d, dtype: float64"
      ]
     },
     "execution_count": 335,
     "metadata": {},
     "output_type": "execute_result"
    }
   ],
   "source": [
    "eggo_measurements.head(20)"
   ]
  },
  {
   "cell_type": "code",
   "execution_count": 303,
   "id": "74684c19-71a7-45d2-a90d-888066196982",
   "metadata": {},
   "outputs": [
    {
     "data": {
      "text/plain": [
       "'RS_GCF_900103005.1'"
      ]
     },
     "execution_count": 303,
     "metadata": {},
     "output_type": "execute_result"
    }
   ],
   "source": [
    "test_genome"
   ]
  },
  {
   "cell_type": "code",
   "execution_count": null,
   "id": "fed23cea-ae57-4423-8161-21815b90995f",
   "metadata": {},
   "outputs": [],
   "source": []
  }
 ],
 "metadata": {
  "kernelspec": {
   "display_name": "Python 3 (ipykernel)",
   "language": "python",
   "name": "python3"
  },
  "language_info": {
   "codemirror_mode": {
    "name": "ipython",
    "version": 3
   },
   "file_extension": ".py",
   "mimetype": "text/x-python",
   "name": "python",
   "nbconvert_exporter": "python",
   "pygments_lexer": "ipython3",
   "version": "3.10.4"
  }
 },
 "nbformat": 4,
 "nbformat_minor": 5
}
